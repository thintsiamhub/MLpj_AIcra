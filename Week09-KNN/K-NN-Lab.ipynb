{
  "cells": [
    {
      "cell_type": "markdown",
      "metadata": {
        "id": "view-in-github",
        "colab_type": "text"
      },
      "source": [
        "<a href=\"https://colab.research.google.com/github/thintsiamhub/MLpj_AIcra/blob/main/Week09-KNN/K-NN-Lab.ipynb\" target=\"_parent\"><img src=\"https://colab.research.google.com/assets/colab-badge.svg\" alt=\"Open In Colab\"/></a>"
      ]
    },
    {
      "cell_type": "markdown",
      "metadata": {
        "id": "Y5MgDuSlfy6N"
      },
      "source": [
        "# K-nearest neighbors"
      ]
    },
    {
      "cell_type": "code",
      "source": [
        "# Example of getting neighbors for an instance\n",
        "from math import sqrt\n",
        "import matplotlib.pyplot as plt\n",
        "import seaborn as sns; sns.set()  # for plot styling\n",
        "import numpy as np"
      ],
      "metadata": {
        "id": "grzUC3ZXQ8yS"
      },
      "execution_count": null,
      "outputs": []
    },
    {
      "cell_type": "code",
      "source": [
        "# Test distance function\n",
        "                    #x1, x2, y\n",
        "train = np.array([[1,2,0],\n",
        "                    [1,3,0],\n",
        "                    [7,2,1],\n",
        "                    [3,2,1],\n",
        "                    [4,2,1]])\n",
        "\n",
        "test = np.array([[2,2]])"
      ],
      "metadata": {
        "id": "o8gFtB-7Q7ne",
        "outputId": "b163fc48-8df5-4431-dcaf-2be3750d0fcb",
        "colab": {
          "base_uri": "https://localhost:8080/",
          "height": 211
        }
      },
      "execution_count": 1,
      "outputs": [
        {
          "output_type": "error",
          "ename": "NameError",
          "evalue": "name 'np' is not defined",
          "traceback": [
            "\u001b[0;31m---------------------------------------------------------------------------\u001b[0m",
            "\u001b[0;31mNameError\u001b[0m                                 Traceback (most recent call last)",
            "\u001b[0;32m/tmp/ipython-input-3715206566.py\u001b[0m in \u001b[0;36m<cell line: 0>\u001b[0;34m()\u001b[0m\n\u001b[1;32m      1\u001b[0m \u001b[0;31m# Test distance function\u001b[0m\u001b[0;34m\u001b[0m\u001b[0;34m\u001b[0m\u001b[0m\n\u001b[1;32m      2\u001b[0m                     \u001b[0;31m#x1, x2, y\u001b[0m\u001b[0;34m\u001b[0m\u001b[0;34m\u001b[0m\u001b[0m\n\u001b[0;32m----> 3\u001b[0;31m train = np.array([[1,2,0],\n\u001b[0m\u001b[1;32m      4\u001b[0m                     \u001b[0;34m[\u001b[0m\u001b[0;36m1\u001b[0m\u001b[0;34m,\u001b[0m\u001b[0;36m3\u001b[0m\u001b[0;34m,\u001b[0m\u001b[0;36m0\u001b[0m\u001b[0;34m]\u001b[0m\u001b[0;34m,\u001b[0m\u001b[0;34m\u001b[0m\u001b[0;34m\u001b[0m\u001b[0m\n\u001b[1;32m      5\u001b[0m                     \u001b[0;34m[\u001b[0m\u001b[0;36m7\u001b[0m\u001b[0;34m,\u001b[0m\u001b[0;36m2\u001b[0m\u001b[0;34m,\u001b[0m\u001b[0;36m1\u001b[0m\u001b[0;34m]\u001b[0m\u001b[0;34m,\u001b[0m\u001b[0;34m\u001b[0m\u001b[0;34m\u001b[0m\u001b[0m\n",
            "\u001b[0;31mNameError\u001b[0m: name 'np' is not defined"
          ]
        }
      ]
    },
    {
      "cell_type": "code",
      "execution_count": null,
      "metadata": {
        "id": "0gcrqAdpfy6P"
      },
      "outputs": [],
      "source": [
        "# calculate the Euclidean distance between two vectors\n",
        "def euclidean_distance(row1, row2):\n",
        "    distance = 0.0\n",
        "    print(\"row1 = \", row1, \"row2 = \",row2)\n",
        "    for i in range(len(row2)-1):\n",
        "      print(i)\n",
        "      distance += (row1[0][i] - row2[i])**2\n",
        "    return sqrt(distance) # We don't actually need sqt\n",
        "\n",
        "# Locate the most similar neighbors\n",
        "def get_neighbors(train, test_row, num_neighbors):\n",
        "    distances = list()\n",
        "    for train_row in train:\n",
        "      print(\"train_row\",train_row, \"test_row\",test_row)\n",
        "      dist = euclidean_distance(test_row, train_row)\n",
        "      print(\"dist = \",dist)\n",
        "      #if dist != 0.0:\n",
        "      distances.append((train_row, dist))\n",
        "    distances.sort(key=lambda tup: tup[1])\n",
        "    print(distances)\n",
        "    neighbors = list()\n",
        "    for i in range(num_neighbors):\n",
        "        neighbors.append(distances[i][0])\n",
        "    return neighbors\n",
        "\n",
        "#Your implementation\n",
        "def voting(df_nearest, y_train):\n",
        "  pass"
      ]
    },
    {
      "cell_type": "code",
      "source": [
        "# calculate the Euclidean distance between two vectors\n",
        "def euclidean_distance(row1, row2):\n",
        "    distance = 0.0\n",
        "    print(\"row1 = \", row1, \"row2 = \",row2)\n",
        "    for i in range(len(row2)-1):\n",
        "      print(i)\n",
        "      distance += (row1[0][i] - row2[i])**2\n",
        "    return sqrt(distance) # We don't actually need sqt (square root)"
      ],
      "metadata": {
        "id": "UVpz6yC7RWdH"
      },
      "execution_count": null,
      "outputs": []
    },
    {
      "cell_type": "code",
      "source": [
        "# Locate the most similar neighbors\n",
        "def get_neighbors(train, test_row, num_neighbors):\n",
        "    distances = list()\n",
        "    for train_row in train:\n",
        "      print(\"train_row\",train_row, \"test_row\",test_row)\n",
        "      dist = euclidean_distance(test_row, train_row)\n",
        "      print(\"dist = \",dist)\n",
        "      #if dist != 0.0:\n",
        "      distances.append((train_row, dist)) #บรรทัดที่ 4 - 9 หาระยะห่างระหว่าง 2 samples ในแต่ละ train role ซึ่งเรามี train อยู่ 5 ตัว\n",
        "    distances.sort(key=lambda tup: tup[1])\n",
        "    print(distances)\n",
        "    neighbors = list()\n",
        "    for i in range(num_neighbors):\n",
        "        neighbors.append(distances[i][0])\n",
        "    return neighbors"
      ],
      "metadata": {
        "id": "6xCfE8MARe36"
      },
      "execution_count": null,
      "outputs": []
    },
    {
      "cell_type": "code",
      "source": [
        "neighbors = np.array(get_neighbors(train, test, 3))\n",
        "\n",
        "for neighbor in neighbors:\n",
        "    print(neighbor)\n",
        "\n",
        "plt.scatter(train[:, 0], train[:, 1],c = train[:,2], s=100, cmap='plasma', alpha=1.0)\n",
        "plt.scatter(neighbors[:, 0], neighbors[:, 1], c='red', s=100, alpha=0.7)\n",
        "plt.scatter(test[0,0], test[0,1], c='green', s=100, alpha=0.7)\n",
        "plt.xlim([0, 10])\n",
        "plt.ylim([0, 5])\n",
        "plt.show()"
      ],
      "metadata": {
        "id": "GpiOo5eDke-P",
        "outputId": "240a5d76-a4c5-4746-dfa5-bc9cbec925fe",
        "colab": {
          "base_uri": "https://localhost:8080/",
          "height": 775
        }
      },
      "execution_count": null,
      "outputs": [
        {
          "output_type": "stream",
          "name": "stdout",
          "text": [
            "train_row [1 2 0] test_row [[2 2]]\n",
            "row1 =  [[2 2]] row2 =  [1 2 0]\n",
            "0\n",
            "1\n",
            "dist =  1.0\n",
            "train_row [1 3 0] test_row [[2 2]]\n",
            "row1 =  [[2 2]] row2 =  [1 3 0]\n",
            "0\n",
            "1\n",
            "dist =  1.4142135623730951\n",
            "train_row [7 2 1] test_row [[2 2]]\n",
            "row1 =  [[2 2]] row2 =  [7 2 1]\n",
            "0\n",
            "1\n",
            "dist =  5.0\n",
            "train_row [3 2 1] test_row [[2 2]]\n",
            "row1 =  [[2 2]] row2 =  [3 2 1]\n",
            "0\n",
            "1\n",
            "dist =  1.0\n",
            "train_row [4 2 1] test_row [[2 2]]\n",
            "row1 =  [[2 2]] row2 =  [4 2 1]\n",
            "0\n",
            "1\n",
            "dist =  2.0\n",
            "[(array([1, 2, 0]), 1.0), (array([3, 2, 1]), 1.0), (array([1, 3, 0]), 1.4142135623730951), (array([4, 2, 1]), 2.0), (array([7, 2, 1]), 5.0)]\n",
            "[1 2 0]\n",
            "[3 2 1]\n",
            "[1 3 0]\n"
          ]
        },
        {
          "output_type": "display_data",
          "data": {
            "text/plain": [
              "<Figure size 432x288 with 1 Axes>"
            ],
            "image/png": "[encoded data removed]"
          },
          "metadata": {}
        }
      ]
    },
    {
      "cell_type": "markdown",
      "metadata": {
        "id": "_qVokHpmfy6T"
      },
      "source": [
        "# SK-Learn"
      ]
    },
    {
      "cell_type": "code",
      "execution_count": null,
      "metadata": {
        "id": "-f01gk0xfy6U",
        "outputId": "e8eb72a7-07a0-40d0-bfaf-de97ce4e676f",
        "colab": {
          "base_uri": "https://localhost:8080/",
          "height": 289
        }
      },
      "outputs": [
        {
          "output_type": "stream",
          "name": "stdout",
          "text": [
            "result =  (array([[1.        , 1.        , 1.41421356]]), array([[0, 3, 1]]))\n"
          ]
        },
        {
          "output_type": "display_data",
          "data": {
            "text/plain": [
              "<Figure size 432x288 with 1 Axes>"
            ],
            "image/png": "[encoded data removed]"
          },
          "metadata": {}
        }
      ],
      "source": [
        "from sklearn.neighbors import NearestNeighbors\n",
        "neigh = NearestNeighbors(n_neighbors=3)\n",
        "X = train[:, :2]\n",
        "y = train[:,2]\n",
        "neigh.fit(X,y )\n",
        "\n",
        "result = neigh.kneighbors(test)\n",
        "print(\"result = \",result) #distance and index\n",
        "\n",
        "#Plot all points\n",
        "plt.scatter(train[:, 0], train[:, 1],c = train[:,2], s=100, cmap='plasma', alpha=1.0)\n",
        "#Plot neighbors\n",
        "plt.scatter(train[result[1][0:], 0], train[result[1][0:], 1], c='red', s=200, alpha=0.7)\n",
        "#Plot target\n",
        "plt.scatter(test[0,0], test[0,1], c='green', s=100, alpha=0.7)\n",
        "plt.xlim([0, 10])\n",
        "plt.ylim([0, 5])\n",
        "plt.show()\n"
      ]
    },
    {
      "cell_type": "markdown",
      "source": [
        "KNeighborsClassifier"
      ],
      "metadata": {
        "id": "bAFy3EjzWtQ8"
      }
    },
    {
      "cell_type": "code",
      "source": [
        "from sklearn.neighbors import KNeighborsClassifier\n",
        "#from sklearn.metrics import classification_report\n",
        "knn = KNeighborsClassifier(n_neighbors = 3,algorithm='kd_tree')\n",
        "knn.fit(X, y)\n",
        "answer = knn.predict(test) # knn.predict_proba(test)\n",
        "print(answer)"
      ],
      "metadata": {
        "colab": {
          "base_uri": "https://localhost:8080/"
        },
        "id": "ZqnaJIQ_WskX",
        "outputId": "977c6ec8-8bf2-454c-a4a5-bf970e58f84f"
      },
      "execution_count": null,
      "outputs": [
        {
          "output_type": "stream",
          "name": "stdout",
          "text": [
            "[0]\n"
          ]
        }
      ]
    },
    {
      "cell_type": "markdown",
      "metadata": {
        "id": "vnC9cfgyfy6W"
      },
      "source": [
        "# K-NN with real data"
      ]
    },
    {
      "cell_type": "code",
      "execution_count": null,
      "metadata": {
        "id": "VdRuYYsJfy6W",
        "outputId": "adb49634-9c3a-449b-c2d0-cd82aaa9d560",
        "colab": {
          "base_uri": "https://localhost:8080/"
        }
      },
      "outputs": [
        {
          "output_type": "stream",
          "name": "stdout",
          "text": [
            ".. _iris_dataset:\n",
            "\n",
            "Iris plants dataset\n",
            "--------------------\n",
            "\n",
            "**Data Set Characteristics:**\n",
            "\n",
            "    :Number of Instances: 150 (50 in each of three classes)\n",
            "    :Number of Attributes: 4 numeric, predictive attributes and the class\n",
            "    :Attribute Information:\n",
            "        - sepal length in cm\n",
            "        - sepal width in cm\n",
            "        - petal length in cm\n",
            "        - petal width in cm\n",
            "        - class:\n",
            "                - Iris-Setosa\n",
            "                - Iris-Versicolour\n",
            "                - Iris-Virginica\n",
            "                \n",
            "    :Summary Statistics:\n",
            "\n",
            "    ============== ==== ==== ======= ===== ====================\n",
            "                    Min  Max   Mean    SD   Class Correlation\n",
            "    ============== ==== ==== ======= ===== ====================\n",
            "    sepal length:   4.3  7.9   5.84   0.83    0.7826\n",
            "    sepal width:    2.0  4.4   3.05   0.43   -0.4194\n",
            "    petal length:   1.0  6.9   3.76   1.76    0.9490  (high!)\n",
            "    petal width:    0.1  2.5   1.20   0.76    0.9565  (high!)\n",
            "    ============== ==== ==== ======= ===== ====================\n",
            "\n",
            "    :Missing Attribute Values: None\n",
            "    :Class Distribution: 33.3% for each of 3 classes.\n",
            "    :Creator: R.A. Fisher\n",
            "    :Donor: Michael Marshall (MARSHALL%PLU@io.arc.nasa.gov)\n",
            "    :Date: July, 1988\n",
            "\n",
            "The famous Iris database, first used by Sir R.A. Fisher. The dataset is taken\n",
            "from Fisher's paper. Note that it's the same as in R, but not as in the UCI\n",
            "Machine Learning Repository, which has two wrong data points.\n",
            "\n",
            "This is perhaps the best known database to be found in the\n",
            "pattern recognition literature.  Fisher's paper is a classic in the field and\n",
            "is referenced frequently to this day.  (See Duda & Hart, for example.)  The\n",
            "data set contains 3 classes of 50 instances each, where each class refers to a\n",
            "type of iris plant.  One class is linearly separable from the other 2; the\n",
            "latter are NOT linearly separable from each other.\n",
            "\n",
            ".. topic:: References\n",
            "\n",
            "   - Fisher, R.A. \"The use of multiple measurements in taxonomic problems\"\n",
            "     Annual Eugenics, 7, Part II, 179-188 (1936); also in \"Contributions to\n",
            "     Mathematical Statistics\" (John Wiley, NY, 1950).\n",
            "   - Duda, R.O., & Hart, P.E. (1973) Pattern Classification and Scene Analysis.\n",
            "     (Q327.D83) John Wiley & Sons.  ISBN 0-471-22361-1.  See page 218.\n",
            "   - Dasarathy, B.V. (1980) \"Nosing Around the Neighborhood: A New System\n",
            "     Structure and Classification Rule for Recognition in Partially Exposed\n",
            "     Environments\".  IEEE Transactions on Pattern Analysis and Machine\n",
            "     Intelligence, Vol. PAMI-2, No. 1, 67-71.\n",
            "   - Gates, G.W. (1972) \"The Reduced Nearest Neighbor Rule\".  IEEE Transactions\n",
            "     on Information Theory, May 1972, 431-433.\n",
            "   - See also: 1988 MLC Proceedings, 54-64.  Cheeseman et al\"s AUTOCLASS II\n",
            "     conceptual clustering system finds 3 classes in the data.\n",
            "   - Many, many more ...\n",
            "[0 0 0 0 0 0 0 0 0 0 0 0 0 0 0 0 0 0 0 0 0 0 0 0 0 0 0 0 0 0 0 0 0 0 0 0 0\n",
            " 0 0 0 0 0 0 0 0 0 0 0 0 0 1 1 1 1 1 1 1 1 1 1 1 1 1 1 1 1 1 1 1 1 1 1 1 1\n",
            " 1 1 1 1 1 1 1 1 1 1 1 1 1 1 1 1 1 1 1 1 1 1 1 1 1 1 2 2 2 2 2 2 2 2 2 2 2\n",
            " 2 2 2 2 2 2 2 2 2 2 2 2 2 2 2 2 2 2 2 2 2 2 2 2 2 2 2 2 2 2 2 2 2 2 2 2 2\n",
            " 2 2]\n"
          ]
        }
      ],
      "source": [
        "from sklearn import datasets\n",
        "data = datasets.load_iris()\n",
        "print(data.DESCR)\n",
        "print(data.target)"
      ]
    },
    {
      "cell_type": "code",
      "execution_count": null,
      "metadata": {
        "id": "2F1j8nfrfy6X",
        "outputId": "9f9dd14f-7413-4f55-bc28-1ee3862536ef",
        "colab": {
          "base_uri": "https://localhost:8080/",
          "height": 285
        }
      },
      "outputs": [
        {
          "output_type": "execute_result",
          "data": {
            "text/plain": [
              "<matplotlib.collections.PathCollection at 0x7fa9fd895b10>"
            ]
          },
          "metadata": {},
          "execution_count": 150
        },
        {
          "output_type": "display_data",
          "data": {
            "text/plain": [
              "<Figure size 432x288 with 1 Axes>"
            ],
            "image/png": "[encoded data removed]"
          },
          "metadata": {
            "needs_background": "light"
          }
        }
      ],
      "source": [
        "import matplotlib.pyplot as plt\n",
        "%matplotlib inline\n",
        "x = range(50)\n",
        "plt.scatter(x,data.data[:50,3],color='red') #petal width of Setosa\n",
        "plt.scatter(x,data.data[50:100,3],color='blue') #petal width of Versicolour\n",
        "plt.scatter(x,data.data[100:,3],color='green') #petal width of Virginica"
      ]
    },
    {
      "cell_type": "code",
      "execution_count": null,
      "metadata": {
        "id": "U0t3NvK-fy6X",
        "outputId": "e1e3322f-232a-4daf-a4d7-d245f634035a",
        "colab": {
          "base_uri": "https://localhost:8080/",
          "height": 285
        }
      },
      "outputs": [
        {
          "output_type": "execute_result",
          "data": {
            "text/plain": [
              "<matplotlib.collections.PathCollection at 0x7fa9fe0204d0>"
            ]
          },
          "metadata": {},
          "execution_count": 151
        },
        {
          "output_type": "display_data",
          "data": {
            "text/plain": [
              "<Figure size 432x288 with 1 Axes>"
            ],
            "image/png": "[encoded data removed]"
          },
          "metadata": {
            "needs_background": "light"
          }
        }
      ],
      "source": [
        "plt.scatter(x,data.data[:50,2],color='red') #petal length of Setosa\n",
        "plt.scatter(x,data.data[50:100,2],color='blue') #petal length of Versicolour\n",
        "plt.scatter(x,data.data[100:,2],color='green') #petal length of Virginica"
      ]
    },
    {
      "cell_type": "code",
      "execution_count": null,
      "metadata": {
        "id": "RTYo552_fy6Y",
        "outputId": "f8ab8a08-e39b-4a50-e833-e6b2b4ed88a1",
        "colab": {
          "base_uri": "https://localhost:8080/"
        }
      },
      "outputs": [
        {
          "output_type": "stream",
          "name": "stdout",
          "text": [
            "Train Shape X: (120, 2) Y : (120,)\n",
            "Test Shape X: (30, 2) Y : (30,)\n"
          ]
        }
      ],
      "source": [
        "from sklearn.model_selection import train_test_split\n",
        "X_train, X_test, y_train, y_test = train_test_split(data.data[:,2:4], data.target, test_size=0.2, random_state=42, stratify=data.target) #petal length + width\n",
        "print('Train Shape X: {} Y : {}'.format(X_train.shape,y_train.shape))\n",
        "print('Test Shape X: {} Y : {}'.format(X_test.shape,y_test.shape))"
      ]
    },
    {
      "cell_type": "markdown",
      "source": [
        "Manual training"
      ],
      "metadata": {
        "id": "5T1d7yw_FnPt"
      }
    },
    {
      "cell_type": "code",
      "execution_count": null,
      "metadata": {
        "id": "9gVs9ChMfy6Z",
        "outputId": "0b362af0-57f3-496d-9769-acd71f32721d",
        "colab": {
          "base_uri": "https://localhost:8080/"
        }
      },
      "outputs": [
        {
          "output_type": "stream",
          "name": "stdout",
          "text": [
            "              precision    recall  f1-score   support\n",
            "\n",
            "           0       1.00      1.00      1.00        10\n",
            "           1       0.83      1.00      0.91        10\n",
            "           2       1.00      0.80      0.89        10\n",
            "\n",
            "    accuracy                           0.93        30\n",
            "   macro avg       0.94      0.93      0.93        30\n",
            "weighted avg       0.94      0.93      0.93        30\n",
            "\n"
          ]
        }
      ],
      "source": [
        "from sklearn.neighbors import KNeighborsClassifier\n",
        "from sklearn.metrics import classification_report\n",
        "knn = KNeighborsClassifier(n_neighbors = 2)\n",
        "knn.fit(X_train,y_train)\n",
        "answer = knn.predict(X_test)\n",
        "print(classification_report(y_test, answer))"
      ]
    },
    {
      "cell_type": "markdown",
      "source": [
        "Cross validation"
      ],
      "metadata": {
        "id": "p8pQo5ePFqvM"
      }
    },
    {
      "cell_type": "code",
      "source": [
        "from sklearn.preprocessing import StandardScaler\n",
        "\n",
        "X_train, X_test, y_train, y_test = train_test_split(data.data[:,2:4], data.target, test_size=0.2, random_state=42,stratify=data.target)\n",
        "\n",
        "from sklearn.model_selection import GridSearchCV\n",
        "parameters = {'n_neighbors': range(3,11), 'algorithm' : ['auto', 'ball_tree']}\n",
        "\n",
        "knn_best = GridSearchCV(knn, parameters, cv=5)\n",
        "knn_best.fit(X_train,y_train)\n",
        "\n",
        "print(knn_best.best_params_)\n",
        "print(knn_best.best_estimator_)\n",
        "answer = knn_best.predict(X_test)\n",
        "print(classification_report(y_test, answer))"
      ],
      "metadata": {
        "colab": {
          "base_uri": "https://localhost:8080/"
        },
        "id": "bShOwURrgIKO",
        "outputId": "e7c9fbe9-807b-47d2-b1ec-ac8a4856b396"
      },
      "execution_count": null,
      "outputs": [
        {
          "output_type": "stream",
          "name": "stdout",
          "text": [
            "{'algorithm': 'auto', 'n_neighbors': 4}\n",
            "KNeighborsClassifier(n_neighbors=4)\n",
            "              precision    recall  f1-score   support\n",
            "\n",
            "           0       1.00      1.00      1.00        10\n",
            "           1       1.00      0.90      0.95        10\n",
            "           2       0.91      1.00      0.95        10\n",
            "\n",
            "    accuracy                           0.97        30\n",
            "   macro avg       0.97      0.97      0.97        30\n",
            "weighted avg       0.97      0.97      0.97        30\n",
            "\n"
          ]
        }
      ]
    },
    {
      "cell_type": "markdown",
      "source": [
        "Feature scaling + Cross validation"
      ],
      "metadata": {
        "id": "rhefDhQTFtPE"
      }
    },
    {
      "cell_type": "code",
      "execution_count": null,
      "metadata": {
        "id": "Y_BOpXtWfy6a",
        "outputId": "cfbc8e5a-4c80-480e-f8c9-d8e2b728e589",
        "colab": {
          "base_uri": "https://localhost:8080/"
        }
      },
      "outputs": [
        {
          "output_type": "stream",
          "name": "stdout",
          "text": [
            "{'n_neighbors': 4}\n",
            "KNeighborsClassifier(n_neighbors=4)\n",
            "              precision    recall  f1-score   support\n",
            "\n",
            "           0       1.00      1.00      1.00        10\n",
            "           1       1.00      1.00      1.00        10\n",
            "           2       1.00      1.00      1.00        10\n",
            "\n",
            "    accuracy                           1.00        30\n",
            "   macro avg       1.00      1.00      1.00        30\n",
            "weighted avg       1.00      1.00      1.00        30\n",
            "\n"
          ]
        }
      ],
      "source": [
        "from sklearn.preprocessing import StandardScaler\n",
        "scaler = StandardScaler()\n",
        "X = scaler.fit_transform(data.data[:,2:4])\n",
        "#print(X)\n",
        "X_train, X_test, y_train, y_test = train_test_split(X, data.target, test_size=0.2, random_state=42,stratify=data.target)\n",
        "\n",
        "from sklearn.model_selection import GridSearchCV\n",
        "parameters = {'n_neighbors': range(3,11)}\n",
        "\n",
        "knn_best = GridSearchCV(knn, parameters, cv=5)\n",
        "knn_best.fit(X_train,y_train)\n",
        "print(knn_best.best_params_)\n",
        "print(knn_best.best_estimator_)\n",
        "answer = knn_best.predict(X_test)\n",
        "print(classification_report(y_test, answer))"
      ]
    },
    {
      "cell_type": "code",
      "source": [
        "plt.scatter(x,X[:50,1],color='red') #petal length of Setosa\n",
        "plt.scatter(x,X[50:100,1],color='blue') #petal length of Versicolour\n",
        "plt.scatter(x,X[100:,1],color='green') #petal length of Virginica"
      ],
      "metadata": {
        "colab": {
          "base_uri": "https://localhost:8080/",
          "height": 285
        },
        "id": "iypCc5uUfizi",
        "outputId": "dfbf94fc-2214-4e0f-9ac8-982a5af5a47e"
      },
      "execution_count": null,
      "outputs": [
        {
          "output_type": "execute_result",
          "data": {
            "text/plain": [
              "<matplotlib.collections.PathCollection at 0x7fa9ff473950>"
            ]
          },
          "metadata": {},
          "execution_count": 161
        },
        {
          "output_type": "display_data",
          "data": {
            "text/plain": [
              "<Figure size 432x288 with 1 Axes>"
            ],
            "image/png": "[encoded data removed]"
          },
          "metadata": {
            "needs_background": "light"
          }
        }
      ]
    },
    {
      "cell_type": "markdown",
      "source": [
        "before scaling there were a number of predictor variables with ranges of different order of magnitudes, meaning that one or two of them could dominate in the context of an algorithm such as k-NN. The two main reasons for scaling your data are\n",
        "\n",
        "Your predictor variables may have significantly different ranges and, in certain situations, such as when implementing k-NN, this needs to be mitigated so that certain features do not dominate the algorithm;\n",
        "You want your features to be unit-independent, that is, not reliant on the scale of the measurement involved: for example, you could have a measured feature expressed in meters and I could have the same feature expressed in centimeters. If we both scale our respective data, this feature will be the same for each of us."
      ],
      "metadata": {
        "id": "O9nABnnlbv3T"
      }
    },
    {
      "cell_type": "markdown",
      "source": [
        "If the data is normally distributed, then Standardization is the suitable method for the scaling purpose. On the other hand, if the data is not normally distributed, we go with Normalization scaling method (min-max)"
      ],
      "metadata": {
        "id": "AdgQDewjn3VN"
      }
    },
    {
      "cell_type": "code",
      "source": [
        "import numpy as np\n",
        "import matplotlib.pyplot as plt\n",
        "import seaborn as sns\n",
        "from matplotlib.colors import ListedColormap\n",
        "from sklearn import neighbors, datasets\n",
        "\n",
        "plt.rcParams[\"figure.figsize\"] = [7.00, 3.50]\n",
        "plt.rcParams[\"figure.autolayout\"] = True\n",
        "\n",
        "n_neighbors = 1\n",
        "iris = datasets.load_iris()\n",
        "X = iris.data[:, :2]\n",
        "y = iris.target\n",
        "h = .02\n",
        "\n",
        "cmap_light = ListedColormap(['orange', 'cyan', 'cornflowerblue'])\n",
        "cmap_bold = ['darkorange', 'c', 'darkblue']\n",
        "\n",
        "\n",
        "clf = neighbors.KNeighborsClassifier(n_neighbors, weights='uniform')\n",
        "clf.fit(X, y)\n",
        "\n",
        "x_min, x_max = X[:, 0].min() - 1, X[:, 0].max() + 1\n",
        "y_min, y_max = X[:, 1].min() - 1, X[:, 1].max() + 1\n",
        "xx, yy = np.meshgrid(np.arange(x_min, x_max, h),\n",
        "np.arange(y_min, y_max, h))\n",
        "Z = clf.predict(np.c_[xx.ravel(), yy.ravel()])\n",
        "Z = Z.reshape(xx.shape)\n",
        "\n",
        "plt.figure()\n",
        "\n",
        "plt.contourf(xx, yy, Z, cmap=cmap_light)\n",
        "\n",
        "sns.scatterplot(x=X[:, 0], y=X[:, 1], hue=iris.target_names[y],\n",
        "palette=cmap_bold, alpha=1.0, edgecolor=\"black\")\n",
        "\n",
        "plt.xlim(xx.min(), xx.max())\n",
        "plt.ylim(yy.min(), yy.max())\n",
        "\n",
        "plt.title(\"3-Class classification (k = %i, 'uniform' = '%s')\"\n",
        "% (n_neighbors, 'uniform'))\n",
        "\n",
        "plt.xlabel(iris.feature_names[0])\n",
        "plt.ylabel(iris.feature_names[1])\n",
        "\n",
        "#plt.Show()"
      ],
      "metadata": {
        "id": "1f3ALShBYZBs",
        "outputId": "c5cb37bc-bd2c-44d0-9d38-35593347c469",
        "colab": {
          "base_uri": "https://localhost:8080/",
          "height": 278
        }
      },
      "execution_count": null,
      "outputs": [
        {
          "output_type": "execute_result",
          "data": {
            "text/plain": [
              "Text(0, 0.5, 'sepal width (cm)')"
            ]
          },
          "metadata": {},
          "execution_count": 5
        },
        {
          "output_type": "display_data",
          "data": {
            "text/plain": [
              "<Figure size 504x252 with 1 Axes>"
            ],
            "image/png": "[encoded data removed]"
          },
          "metadata": {
            "needs_background": "light"
          }
        }
      ]
    }
  ],
  "metadata": {
    "kernelspec": {
      "display_name": "Python 3",
      "language": "python",
      "name": "python3"
    },
    "language_info": {
      "codemirror_mode": {
        "name": "ipython",
        "version": 3
      },
      "file_extension": ".py",
      "mimetype": "text/x-python",
      "name": "python",
      "nbconvert_exporter": "python",
      "pygments_lexer": "ipython3",
      "version": "3.7.4"
    },
    "colab": {
      "name": "K-NN.ipynb",
      "provenance": [],
      "include_colab_link": true
    }
  },
  "nbformat": 4,
  "nbformat_minor": 0
}