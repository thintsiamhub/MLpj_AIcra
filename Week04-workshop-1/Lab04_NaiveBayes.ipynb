{
  "nbformat": 4,
  "nbformat_minor": 0,
  "metadata": {
    "colab": {
      "provenance": [],
      "include_colab_link": true
    },
    "kernelspec": {
      "name": "python3",
      "display_name": "Python 3"
    },
    "language_info": {
      "name": "python"
    }
  },
  "cells": [
    {
      "cell_type": "markdown",
      "metadata": {
        "id": "view-in-github",
        "colab_type": "text"
      },
      "source": [
        "<a href=\"https://colab.research.google.com/github/thintsiamhub/MLpj_AIcra/blob/main/Week04-workshop-1/Lab04_NaiveBayes.ipynb\" target=\"_parent\"><img src=\"https://colab.research.google.com/assets/colab-badge.svg\" alt=\"Open In Colab\"/></a>"
      ]
    },
    {
      "cell_type": "code",
      "source": [
        "import numpy as np\n",
        "import pandas as pd\n",
        "import matplotlib.pyplot as plt\n",
        "import math"
      ],
      "metadata": {
        "id": "9A3_DyZm2gel"
      },
      "execution_count": null,
      "outputs": []
    },
    {
      "cell_type": "code",
      "source": [
        "def accuracy_score(y_true, y_pred):\n",
        "\n",
        "\t\"\"\"\tscore = (y_true - y_pred) / len(y_true) \"\"\"\n",
        "\n",
        "\treturn round(float(sum(y_pred == y_true))/float(len(y_true)) * 100 ,2)"
      ],
      "metadata": {
        "id": "U_Y_GcJH2iNC"
      },
      "execution_count": null,
      "outputs": []
    },
    {
      "cell_type": "code",
      "source": [
        "def pre_processing(df):\n",
        "  \"\"\" partioning data into features and target \"\"\"\n",
        "  df = df.drop([df.columns[0]], axis = 1)\n",
        "  print(df.head())\n",
        "\n",
        "  X = df.drop([df.columns[-1]], axis = 1)\n",
        "  y = df[df.columns[-1]]\n",
        "  return X, y\n"
      ],
      "metadata": {
        "id": "CSPPWWhM2kak"
      },
      "execution_count": null,
      "outputs": []
    },
    {
      "cell_type": "code",
      "execution_count": null,
      "metadata": {
        "id": "eTdYNFv81jU_"
      },
      "outputs": [],
      "source": [
        "class  NaiveBayes:\n",
        "\n",
        "\t\"\"\"\n",
        "\t\tBayes Theorem:\n",
        "\t\t\t\t\t\t\t\t\t\t                    Likelihood * Class prior probability\n",
        "\t\t\t\tPosterior Probability = -------------------------------------\n",
        "\t\t\t\t\t\t\t\t\t\t\t                      Predictor prior probability\n",
        "\n",
        "\t\t\t\t\t\t\t  \t\t\t          P(x|c) * p(c)\n",
        "\t\t\t\t\t\t\t   P(c|x) = ------------------\n",
        "\t\t\t\t\t\t\t\t\t\t\t                P(x)\n",
        "\t\"\"\"\n",
        "\n",
        "\tdef __init__(self):\n",
        "\n",
        "\t\t\"\"\"\n",
        "\t\t\tAttributes:\n",
        "\t\t\t\tlikelihoods: Likelihood of each feature per class\n",
        "\t\t\t\tclass_priors: Prior probabilities of classes\n",
        "\t\t\t\tpred_priors: Prior probabilities of features\n",
        "\t\t\t\tfeatures: All features of dataset\n",
        "\t\t\"\"\"\n",
        "\t\tself.features = list\n",
        "\t\tself.likelihoods = {}\n",
        "\t\tself.class_priors = {}\n",
        "\t\tself.pred_priors = {}\n",
        "\n",
        "\t\tself.X_train = np.array\n",
        "\t\tself.y_train = np.array\n",
        "\t\tself.train_size = int\n",
        "\t\tself.num_feats = int\n",
        "\n",
        "\tdef fit(self, X, y):\n",
        "\n",
        "\t\tself.features = list(X.columns)\n",
        "\t\tself.X_train = X\n",
        "\t\tself.y_train = y\n",
        "\t\tself.train_size = X.shape[0]\n",
        "\t\tself.num_feats = X.shape[1]\n",
        "\n",
        "\t\tfor feature in self.features:\n",
        "\t\t\tself.likelihoods[feature] = {}\n",
        "\t\t\tself.pred_priors[feature] = {}\n",
        "\n",
        "\t\t\tfor feat_val in np.unique(self.X_train[feature]):\n",
        "\t\t\t\tself.pred_priors[feature].update({feat_val: 0})\n",
        "\n",
        "\t\t\t\tfor outcome in np.unique(self.y_train):\n",
        "\t\t\t\t\tself.likelihoods[feature].update({feat_val+'_'+outcome:0})\n",
        "\t\t\t\t\tself.class_priors.update({outcome: 0})\n",
        "\n",
        "\t\tself._calc_class_prior()\n",
        "\t\tself._calc_likelihoods()\n",
        "\t\tself._calc_predictor_prior()\n",
        "\n",
        "\tdef _calc_class_prior(self):\n",
        "\n",
        "\t\t\"\"\" P(c) - Prior Class Probability \"\"\"\n",
        "\n",
        "\t\tfor outcome in np.unique(self.y_train):\n",
        "\t\t\toutcome_count = sum(self.y_train == outcome)\n",
        "\t\t\tself.class_priors[outcome] = outcome_count / self.train_size\n",
        "\n",
        "\tdef _calc_likelihoods(self):\n",
        "\n",
        "\t\t\"\"\" P(x|c) - Likelihood \"\"\"\n",
        "\n",
        "\t\tfor feature in self.features:\n",
        "\n",
        "\t\t\tfor outcome in np.unique(self.y_train):\n",
        "\t\t\t\toutcome_count = sum(self.y_train == outcome)\n",
        "\t\t\t\tfeat_likelihood = self.X_train[feature][self.y_train[self.y_train == outcome].index.values.tolist()].value_counts().to_dict()\n",
        "\n",
        "\t\t\t\tfor feat_val, count in feat_likelihood.items():\n",
        "\t\t\t\t\tself.likelihoods[feature][feat_val + '_' + outcome] = count/outcome_count\n",
        "\n",
        "\n",
        "\tdef _calc_predictor_prior(self):\n",
        "\n",
        "\t\t\"\"\" P(x) - Evidence \"\"\"\n",
        "\n",
        "\t\tfor feature in self.features:\n",
        "\t\t\tfeat_vals = self.X_train[feature].value_counts().to_dict()\n",
        "\n",
        "\t\t\tfor feat_val, count in feat_vals.items():\n",
        "\t\t\t\tself.pred_priors[feature][feat_val] = count/self.train_size\n",
        "\n",
        "\n",
        "\tdef predict(self, X):\n",
        "\n",
        "\t\t\"\"\" Calculates Posterior probability P(c|x) \"\"\"\n",
        "\n",
        "\t\tresults = []\n",
        "\t\tX = np.array(X)\n",
        "\n",
        "\t\tfor query in X:\n",
        "\t\t\tprobs_outcome = {}\n",
        "\t\t\tfor outcome in np.unique(self.y_train):\n",
        "\t\t\t\tprior = self.class_priors[outcome]\n",
        "\t\t\t\tlikelihood = 1\n",
        "\t\t\t\tevidence = 1\n",
        "\n",
        "\t\t\t\tfor feat, feat_val in zip(self.features, query):\n",
        "\t\t\t\t\tlikelihood *= self.likelihoods[feat][feat_val + '_' + outcome]\n",
        "\t\t\t\t\tevidence *= self.pred_priors[feat][feat_val]\n",
        "\n",
        "\t\t\t\tposterior = (likelihood * prior) / (evidence)\n",
        "\n",
        "\t\t\t\tprobs_outcome[outcome] = posterior\n",
        "\n",
        "\t\t\tresult = max(probs_outcome, key = lambda x: probs_outcome[x])\n",
        "\t\t\tresults.append(result)\n",
        "\n",
        "\t\treturn np.array(results)\n",
        "\n",
        "\n"
      ]
    },
    {
      "cell_type": "code",
      "source": [
        "if __name__ == \"__main__\":\n",
        "\n",
        "\t#Weather Dataset\n",
        "\tprint(\"\\nWeather Dataset:\")\n",
        "\n",
        "\tdf = pd.read_csv(\"https://raw.githubusercontent.com/ekaratnida/Applied-machine-learning/master/Week10-desicion-tree/PlayTennis.csv\")\n",
        "\t#print(df)\n",
        "\n",
        "\t#Split fearures and target\n",
        "\tX,y  = pre_processing(df)\n",
        "\n",
        "\tnb_clf = NaiveBayes()\n",
        "\tnb_clf.fit(X, y)\n",
        "\n",
        "\tprint(\"\\nTrain Accuracy: {}\".format(accuracy_score(y, nb_clf.predict(X))))\n",
        "\n",
        "\t#Query 1:\n",
        "\tquery = np.array([['Rain','Mild', 'Normal', 'Strong']])\n",
        "\tprint(\"Query 1:- {} ---> {}\".format(query, nb_clf.predict(query)))\n",
        "\n",
        "\t#Query 2:\n",
        "\tquery = np.array([['Overcast','Cool', 'Normal', 'Strong']])\n",
        "\tprint(\"Query 2:- {} ---> {}\".format(query, nb_clf.predict(query)))\n",
        "\n",
        "\t#Query 3:\n",
        "\tquery = np.array([['Sunny','Hot', 'High', 'Strong']])\n",
        "\tprint(\"Query 3:- {} ---> {}\".format(query, nb_clf.predict(query)))"
      ],
      "metadata": {
        "colab": {
          "base_uri": "https://localhost:8080/"
        },
        "id": "WMFl0wgW2wgb",
        "outputId": "4ced0727-59eb-4df5-f93f-ff3237102f2f"
      },
      "execution_count": null,
      "outputs": [
        {
          "output_type": "stream",
          "name": "stdout",
          "text": [
            "\n",
            "Weather Dataset:\n",
            "    Outlook Temperature Humidity    Wind Play_Tennis\n",
            "0     Sunny         Hot     High    Weak          No\n",
            "1     Sunny         Hot     High  Strong          No\n",
            "2  Overcast         Hot     High    Weak         Yes\n",
            "3      Rain        Mild     High    Weak         Yes\n",
            "4      Rain        Cool   Normal    Weak         Yes\n",
            "\n",
            "Train Accuracy: 92.86\n",
            "Query 1:- [['Rain' 'Mild' 'Normal' 'Strong']] ---> ['Yes']\n",
            "Query 2:- [['Overcast' 'Cool' 'Normal' 'Strong']] ---> ['Yes']\n",
            "Query 3:- [['Sunny' 'Hot' 'High' 'Strong']] ---> ['No']\n"
          ]
        }
      ]
    }
  ]
}